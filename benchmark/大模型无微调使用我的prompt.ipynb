{
 "cells": [
  {
   "cell_type": "markdown",
   "metadata": {},
   "source": [
    "### 启动GLM\n",
    "```\n",
    "API_PORT=8000 llamafactory-cli api examples/inference/llama3_lora_sft_chatglm_nofinetune.yaml\n",
    "```\n",
    "### 启动Qwen\n",
    "```\n",
    "API_PORT=8000 llamafactory-cli api examples/inference/llama3_lora_sft_qwen_nofinetune.yaml\n",
    "```\n",
    "### 启动LLAma\n",
    "```\n",
    "API_PORT=8000 llamafactory-cli api examples/inference/llama3_lora_sft_llama_nofinetune.yaml\n",
    "```"
   ]
  },
  {
   "cell_type": "code",
   "execution_count": null,
   "metadata": {},
   "outputs": [],
   "source": [
    "model = \"LLAMA\"\n",
    "import requests\n",
    "## 启动微调过后的模型 接口形式为openai API_PORT=8000 llamafactory-cli api examples/inference/llama3_lora_sft.yaml\n",
    "url = \"http://0.0.0.0:8000/v1/chat/completions\"  # 替换为目标URL\n",
    "data = {\n",
    "    \"model\": \"string\",\n",
    "    \"stream\":False,\n",
    "    \"messages\": [\n",
    "        {\n",
    "            \"role\": \"user\",\n",
    "            \"content\": \"\"\n",
    "        },\n",
    "    ]\n",
    "}"
   ]
  },
  {
   "cell_type": "code",
   "execution_count": null,
   "metadata": {},
   "outputs": [],
   "source": [
    "## no prompt\n",
    "import json\n",
    "key_values1 = None\n",
    "no_prompt_notrain_val = []\n",
    "with open(\"/data/liuytest/数据处理/中医药/train_data_no_prompt_test.json\", 'r',encoding=\"utf-8\") as json_file:\n",
    "    key_values1 = json.load(json_file)\n",
    "    for kv in key_values1:\n",
    "        print(kv['instruction'])\n",
    "        print(kv['output'])\n",
    "        data['messages'][0]['content'] = \"请将以下自然语言翻译为对该数据库的Cypher查询:\\n\"+kv['instruction']\n",
    "\n",
    "        response = requests.post(url, json=data, timeout=600)\n",
    "        json_data = response.json()\n",
    "        # print(json_data)\n",
    "        json_data =  json_data[\"choices\"][0][\"message\"][\"content\"]\n",
    "        print(json_data)\n",
    "        no_prompt_notrain_val.append({\"label\":kv['output'],\"predict\":json_data})\n",
    "\n",
    "with open(f\"zyy_train_data_no_prompt_notrain_test_{model}.json\", 'w',encoding=\"utf-8\") as json_file:\n",
    "    json.dump(no_prompt_notrain_val, json_file ,ensure_ascii=False,indent=4)"
   ]
  },
  {
   "cell_type": "code",
   "execution_count": null,
   "metadata": {},
   "outputs": [],
   "source": [
    "## my prompt\n",
    "import json\n",
    "key_values1 = None\n",
    "no_prompt_notrain_val = []\n",
    "with open(\"/data/liuytest/数据处理/中医药/train_data_my_prompt_test.json\", 'r',encoding=\"utf-8\") as json_file:\n",
    "    key_values1 = json.load(json_file)\n",
    "    for kv in key_values1:\n",
    "        # print(kv['instruction'])\n",
    "        print(kv['output'])\n",
    "        data['messages'][0]['content'] = kv['instruction']\n",
    "\n",
    "        response = requests.post(url, json=data, timeout=600)\n",
    "        json_data = response.json()\n",
    "        # print(json_data)\n",
    "        json_data =  json_data[\"choices\"][0][\"message\"][\"content\"]\n",
    "        print(json_data)\n",
    "        no_prompt_notrain_val.append({\"label\":kv['output'],\"predict\":json_data})\n",
    "\n",
    "with open(f\"zyy_train_data_my_prompt_notrain_test_{model}.json\", 'w',encoding=\"utf-8\") as json_file:\n",
    "    json.dump(no_prompt_notrain_val, json_file ,ensure_ascii=False,indent=4)"
   ]
  },
  {
   "cell_type": "code",
   "execution_count": null,
   "metadata": {},
   "outputs": [],
   "source": [
    "## schema prompt\n",
    "import json\n",
    "key_values1 = None\n",
    "no_prompt_notrain_val = []\n",
    "with open(\"/data/liuytest/数据处理/中医药/train_data_schema_prompt_test.json\", 'r',encoding=\"utf-8\") as json_file:\n",
    "    key_values1 = json.load(json_file)\n",
    "    for kv in key_values1:\n",
    "        # print(kv['instruction'])\n",
    "        print(kv['output'])\n",
    "        data['messages'][0]['content'] = kv['instruction']\n",
    "\n",
    "        response = requests.post(url, json=data, timeout=600)\n",
    "        json_data = response.json()\n",
    "        # print(json_data)\n",
    "        json_data =  json_data[\"choices\"][0][\"message\"][\"content\"]\n",
    "        print(json_data)\n",
    "        no_prompt_notrain_val.append({\"label\":kv['output'],\"predict\":json_data})\n",
    "\n",
    "with open(f\"zyy_train_data_schema_prompt_notrain_test_{model}.json\", 'w',encoding=\"utf-8\") as json_file:\n",
    "    json.dump(no_prompt_notrain_val, json_file ,ensure_ascii=False,indent=4)"
   ]
  },
  {
   "cell_type": "code",
   "execution_count": null,
   "metadata": {},
   "outputs": [],
   "source": [
    "## vector prompt\n",
    "import json\n",
    "key_values1 = None\n",
    "no_prompt_notrain_val = []\n",
    "with open(\"/data/liuytest/数据处理/中医药/train_data_vector_prompt_test.json\", 'r',encoding=\"utf-8\") as json_file:\n",
    "    key_values1 = json.load(json_file)\n",
    "    for kv in key_values1:\n",
    "        # print(kv['instruction'])\n",
    "        print(kv['output'])\n",
    "        data['messages'][0]['content'] = kv['instruction']\n",
    "\n",
    "        response = requests.post(url, json=data, timeout=600)\n",
    "        json_data = response.json()\n",
    "        # print(json_data)\n",
    "        json_data =  json_data[\"choices\"][0][\"message\"][\"content\"]\n",
    "        print(json_data)\n",
    "        no_prompt_notrain_val.append({\"label\":kv['output'],\"predict\":json_data})\n",
    "\n",
    "with open(f\"zyy_train_data_vector_prompt_notrain_test_{model}.json\", 'w',encoding=\"utf-8\") as json_file:\n",
    "    json.dump(no_prompt_notrain_val, json_file ,ensure_ascii=False,indent=4)"
   ]
  }
 ],
 "metadata": {
  "kernelspec": {
   "display_name": "liuy-langchain",
   "language": "python",
   "name": "python3"
  },
  "language_info": {
   "codemirror_mode": {
    "name": "ipython",
    "version": 3
   },
   "file_extension": ".py",
   "mimetype": "text/x-python",
   "name": "python",
   "nbconvert_exporter": "python",
   "pygments_lexer": "ipython3",
   "version": "3.10.0"
  }
 },
 "nbformat": 4,
 "nbformat_minor": 2
}
